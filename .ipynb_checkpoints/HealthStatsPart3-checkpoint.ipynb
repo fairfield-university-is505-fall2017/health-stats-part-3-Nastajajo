{
 "cells": [
  {
   "cell_type": "markdown",
   "metadata": {},
   "source": [
    "# Health Stats Part 2: Waist 2 Hip Ratios"
   ]
  },
  {
   "cell_type": "markdown",
   "metadata": {},
   "source": [
    "<!--- Write an explanation of the Waist To Hips Ratio statistic used by health professionals. Please include an explanation of what it is used for, exactly how it is calculated, and how to interpret the results. Note: Formmatting matters. Make this as professional as you can using Markdown.  --->\n",
    "EDIT THIS MARKDOWN CELL"
   ]
  },
  {
   "cell_type": "markdown",
   "metadata": {},
   "source": [
    "## Source Data "
   ]
  },
  {
   "cell_type": "markdown",
   "metadata": {},
   "source": [
    "<!--- Replace the text below with a Markdown bullet list that defines the columns of the CSV file. Be sure to indicate the data type for each column. --->\n",
    "EDIT THIS MARKDOWN CELL"
   ]
  },
  {
   "cell_type": "markdown",
   "metadata": {},
   "source": [
    "## Data Import"
   ]
  },
  {
   "cell_type": "code",
   "execution_count": 68,
   "metadata": {},
   "outputs": [
    {
     "name": "stdout",
     "output_type": "stream",
     "text": [
      "[( 1,  30.,  32., 'M') ( 2,  32.,  37., 'M') ( 3,  30.,  36., 'M')\n",
      " ( 4,  33.,  39., 'M') ( 5,  29.,  33., 'M') ( 6,  32.,  38., 'M')\n",
      " ( 7,  33.,  42., 'M') ( 8,  30.,  40., 'M') ( 9,  30.,  37., 'M')\n",
      " (10,  32.,  39., 'M') (11,  24.,  35., 'F') (12,  25.,  37., 'F')\n",
      " (13,  24.,  37., 'F') (14,  22.,  34., 'F') (15,  26.,  38., 'F')\n",
      " (16,  26.,  37., 'F') (17,  25.,  38., 'F') (18,  26.,  37., 'F')\n",
      " (19,  28.,  40., 'F') (20,  23.,  35., 'F')]\n"
     ]
    }
   ],
   "source": [
    "# Goal: Extract the data from the file\n",
    "import numpy as np\n",
    "\n",
    "rows = np.genfromtxt('w2h_data.csv',delimiter=',',names=True,dtype = [int,float,float,'U1'])\n",
    "\n",
    "print(rows)"
   ]
  },
  {
   "cell_type": "code",
   "execution_count": null,
   "metadata": {},
   "outputs": [],
   "source": []
  },
  {
   "cell_type": "markdown",
   "metadata": {},
   "source": [
    "## Calculations"
   ]
  },
  {
   "cell_type": "code",
   "execution_count": 69,
   "metadata": {},
   "outputs": [],
   "source": [
    "# Goal: For each row of data calculate and store the w2h_ratio and shape.\n",
    "\n",
    "# For each row in the rows list, calculate the waist to hips ratio and shape\n",
    "for row in rows:\n",
    "    # Calculate the w2h_ratio \n",
    "    w2h_ratios = rows['Waist']/rows['Hip'] # FIX THIS; you will need to take care about data types\n",
    "\n",
    "#define male and female\n",
    "males = (rows['Gender']=='M') \n",
    "females = (rows['Gender']=='F')\n",
    "\n",
    "#males w/ w2h > 0.9 are apples\n",
    "male_apples = np.logical_and((w2h_ratios>0.9),males)\n",
    "\n",
    "#females w/ w2h > 0.8 are apples\n",
    "female_apples = np.logical_and((w2h_ratios>0.8),np.logical_not(males))\n",
    "\n",
    "#add male and female apples\n",
    "apples = np.logical_or(male_apples,female_apples)\n",
    "\n",
    "shapes=np.where(apples,'Apple','Pear')\n",
    "\n",
    "dt = np.dtype(rows.dtype.descr + [('W2H_Ratio',float),('Shape','U5')])\n",
    "\n",
    "results = np.zeros(rows.shape,dtype = dt)\n",
    "\n",
    "for c in rows.dtype.names:\n",
    "  results[c]=rows[c]\n",
    "\n",
    "results['W2H_Ratio']=w2h_ratios\n",
    "results['Shape']=shapes\n",
    "    \n",
    "     "
   ]
  },
  {
   "cell_type": "markdown",
   "metadata": {},
   "source": [
    "## Output"
   ]
  },
  {
   "cell_type": "code",
   "execution_count": 70,
   "metadata": {},
   "outputs": [
    {
     "data": {
      "text/html": [
       "<table><tr><th>ID</th><th>Waist</th><th>Hip</th><th>Gender</th><th>W2H_Ratio</th><th>Shape</th></tr><tr><td>(1,  30.,  32., 'M')</td><td>(2,  32.,  37., 'M')</td><td>(3,  30.,  36., 'M')</td><td>(4,  33.,  39., 'M')</td><td>(5,  29.,  33., 'M')</td><td>(6,  32.,  38., 'M')</td><td>(7,  33.,  42., 'M')</td><td>(8,  30.,  40., 'M')</td><td>(9,  30.,  37., 'M')</td><td>(10,  32.,  39., 'M')</td><td>(11,  24.,  35., 'F')</td><td>(12,  25.,  37., 'F')</td><td>(13,  24.,  37., 'F')</td><td>(14,  22.,  34., 'F')</td><td>(15,  26.,  38., 'F')</td><td>(16,  26.,  37., 'F')</td><td>(17,  25.,  38., 'F')</td><td>(18,  26.,  37., 'F')</td><td>(19,  28.,  40., 'F')</td><td>(20,  23.,  35., 'F')</td></tr><tr><td>(1,  30.,  32., 'M')</td><td>(2,  32.,  37., 'M')</td><td>(3,  30.,  36., 'M')</td><td>(4,  33.,  39., 'M')</td><td>(5,  29.,  33., 'M')</td><td>(6,  32.,  38., 'M')</td><td>(7,  33.,  42., 'M')</td><td>(8,  30.,  40., 'M')</td><td>(9,  30.,  37., 'M')</td><td>(10,  32.,  39., 'M')</td><td>(11,  24.,  35., 'F')</td><td>(12,  25.,  37., 'F')</td><td>(13,  24.,  37., 'F')</td><td>(14,  22.,  34., 'F')</td><td>(15,  26.,  38., 'F')</td><td>(16,  26.,  37., 'F')</td><td>(17,  25.,  38., 'F')</td><td>(18,  26.,  37., 'F')</td><td>(19,  28.,  40., 'F')</td><td>(20,  23.,  35., 'F')</td></tr><tr><td>(1,  30.,  32., 'M')</td><td>(2,  32.,  37., 'M')</td><td>(3,  30.,  36., 'M')</td><td>(4,  33.,  39., 'M')</td><td>(5,  29.,  33., 'M')</td><td>(6,  32.,  38., 'M')</td><td>(7,  33.,  42., 'M')</td><td>(8,  30.,  40., 'M')</td><td>(9,  30.,  37., 'M')</td><td>(10,  32.,  39., 'M')</td><td>(11,  24.,  35., 'F')</td><td>(12,  25.,  37., 'F')</td><td>(13,  24.,  37., 'F')</td><td>(14,  22.,  34., 'F')</td><td>(15,  26.,  38., 'F')</td><td>(16,  26.,  37., 'F')</td><td>(17,  25.,  38., 'F')</td><td>(18,  26.,  37., 'F')</td><td>(19,  28.,  40., 'F')</td><td>(20,  23.,  35., 'F')</td></tr><tr><td>(1,  30.,  32., 'M')</td><td>(2,  32.,  37., 'M')</td><td>(3,  30.,  36., 'M')</td><td>(4,  33.,  39., 'M')</td><td>(5,  29.,  33., 'M')</td><td>(6,  32.,  38., 'M')</td><td>(7,  33.,  42., 'M')</td><td>(8,  30.,  40., 'M')</td><td>(9,  30.,  37., 'M')</td><td>(10,  32.,  39., 'M')</td><td>(11,  24.,  35., 'F')</td><td>(12,  25.,  37., 'F')</td><td>(13,  24.,  37., 'F')</td><td>(14,  22.,  34., 'F')</td><td>(15,  26.,  38., 'F')</td><td>(16,  26.,  37., 'F')</td><td>(17,  25.,  38., 'F')</td><td>(18,  26.,  37., 'F')</td><td>(19,  28.,  40., 'F')</td><td>(20,  23.,  35., 'F')</td></tr><tr><td>(1,  30.,  32., 'M')</td><td>(2,  32.,  37., 'M')</td><td>(3,  30.,  36., 'M')</td><td>(4,  33.,  39., 'M')</td><td>(5,  29.,  33., 'M')</td><td>(6,  32.,  38., 'M')</td><td>(7,  33.,  42., 'M')</td><td>(8,  30.,  40., 'M')</td><td>(9,  30.,  37., 'M')</td><td>(10,  32.,  39., 'M')</td><td>(11,  24.,  35., 'F')</td><td>(12,  25.,  37., 'F')</td><td>(13,  24.,  37., 'F')</td><td>(14,  22.,  34., 'F')</td><td>(15,  26.,  38., 'F')</td><td>(16,  26.,  37., 'F')</td><td>(17,  25.,  38., 'F')</td><td>(18,  26.,  37., 'F')</td><td>(19,  28.,  40., 'F')</td><td>(20,  23.,  35., 'F')</td></tr><tr><td>(1,  30.,  32., 'M')</td><td>(2,  32.,  37., 'M')</td><td>(3,  30.,  36., 'M')</td><td>(4,  33.,  39., 'M')</td><td>(5,  29.,  33., 'M')</td><td>(6,  32.,  38., 'M')</td><td>(7,  33.,  42., 'M')</td><td>(8,  30.,  40., 'M')</td><td>(9,  30.,  37., 'M')</td><td>(10,  32.,  39., 'M')</td><td>(11,  24.,  35., 'F')</td><td>(12,  25.,  37., 'F')</td><td>(13,  24.,  37., 'F')</td><td>(14,  22.,  34., 'F')</td><td>(15,  26.,  38., 'F')</td><td>(16,  26.,  37., 'F')</td><td>(17,  25.,  38., 'F')</td><td>(18,  26.,  37., 'F')</td><td>(19,  28.,  40., 'F')</td><td>(20,  23.,  35., 'F')</td></tr><tr><td>(1,  30.,  32., 'M')</td><td>(2,  32.,  37., 'M')</td><td>(3,  30.,  36., 'M')</td><td>(4,  33.,  39., 'M')</td><td>(5,  29.,  33., 'M')</td><td>(6,  32.,  38., 'M')</td><td>(7,  33.,  42., 'M')</td><td>(8,  30.,  40., 'M')</td><td>(9,  30.,  37., 'M')</td><td>(10,  32.,  39., 'M')</td><td>(11,  24.,  35., 'F')</td><td>(12,  25.,  37., 'F')</td><td>(13,  24.,  37., 'F')</td><td>(14,  22.,  34., 'F')</td><td>(15,  26.,  38., 'F')</td><td>(16,  26.,  37., 'F')</td><td>(17,  25.,  38., 'F')</td><td>(18,  26.,  37., 'F')</td><td>(19,  28.,  40., 'F')</td><td>(20,  23.,  35., 'F')</td></tr><tr><td>(1,  30.,  32., 'M')</td><td>(2,  32.,  37., 'M')</td><td>(3,  30.,  36., 'M')</td><td>(4,  33.,  39., 'M')</td><td>(5,  29.,  33., 'M')</td><td>(6,  32.,  38., 'M')</td><td>(7,  33.,  42., 'M')</td><td>(8,  30.,  40., 'M')</td><td>(9,  30.,  37., 'M')</td><td>(10,  32.,  39., 'M')</td><td>(11,  24.,  35., 'F')</td><td>(12,  25.,  37., 'F')</td><td>(13,  24.,  37., 'F')</td><td>(14,  22.,  34., 'F')</td><td>(15,  26.,  38., 'F')</td><td>(16,  26.,  37., 'F')</td><td>(17,  25.,  38., 'F')</td><td>(18,  26.,  37., 'F')</td><td>(19,  28.,  40., 'F')</td><td>(20,  23.,  35., 'F')</td></tr><tr><td>(1,  30.,  32., 'M')</td><td>(2,  32.,  37., 'M')</td><td>(3,  30.,  36., 'M')</td><td>(4,  33.,  39., 'M')</td><td>(5,  29.,  33., 'M')</td><td>(6,  32.,  38., 'M')</td><td>(7,  33.,  42., 'M')</td><td>(8,  30.,  40., 'M')</td><td>(9,  30.,  37., 'M')</td><td>(10,  32.,  39., 'M')</td><td>(11,  24.,  35., 'F')</td><td>(12,  25.,  37., 'F')</td><td>(13,  24.,  37., 'F')</td><td>(14,  22.,  34., 'F')</td><td>(15,  26.,  38., 'F')</td><td>(16,  26.,  37., 'F')</td><td>(17,  25.,  38., 'F')</td><td>(18,  26.,  37., 'F')</td><td>(19,  28.,  40., 'F')</td><td>(20,  23.,  35., 'F')</td></tr><tr><td>(1,  30.,  32., 'M')</td><td>(2,  32.,  37., 'M')</td><td>(3,  30.,  36., 'M')</td><td>(4,  33.,  39., 'M')</td><td>(5,  29.,  33., 'M')</td><td>(6,  32.,  38., 'M')</td><td>(7,  33.,  42., 'M')</td><td>(8,  30.,  40., 'M')</td><td>(9,  30.,  37., 'M')</td><td>(10,  32.,  39., 'M')</td><td>(11,  24.,  35., 'F')</td><td>(12,  25.,  37., 'F')</td><td>(13,  24.,  37., 'F')</td><td>(14,  22.,  34., 'F')</td><td>(15,  26.,  38., 'F')</td><td>(16,  26.,  37., 'F')</td><td>(17,  25.,  38., 'F')</td><td>(18,  26.,  37., 'F')</td><td>(19,  28.,  40., 'F')</td><td>(20,  23.,  35., 'F')</td></tr><tr><td>(1,  30.,  32., 'M')</td><td>(2,  32.,  37., 'M')</td><td>(3,  30.,  36., 'M')</td><td>(4,  33.,  39., 'M')</td><td>(5,  29.,  33., 'M')</td><td>(6,  32.,  38., 'M')</td><td>(7,  33.,  42., 'M')</td><td>(8,  30.,  40., 'M')</td><td>(9,  30.,  37., 'M')</td><td>(10,  32.,  39., 'M')</td><td>(11,  24.,  35., 'F')</td><td>(12,  25.,  37., 'F')</td><td>(13,  24.,  37., 'F')</td><td>(14,  22.,  34., 'F')</td><td>(15,  26.,  38., 'F')</td><td>(16,  26.,  37., 'F')</td><td>(17,  25.,  38., 'F')</td><td>(18,  26.,  37., 'F')</td><td>(19,  28.,  40., 'F')</td><td>(20,  23.,  35., 'F')</td></tr><tr><td>(1,  30.,  32., 'M')</td><td>(2,  32.,  37., 'M')</td><td>(3,  30.,  36., 'M')</td><td>(4,  33.,  39., 'M')</td><td>(5,  29.,  33., 'M')</td><td>(6,  32.,  38., 'M')</td><td>(7,  33.,  42., 'M')</td><td>(8,  30.,  40., 'M')</td><td>(9,  30.,  37., 'M')</td><td>(10,  32.,  39., 'M')</td><td>(11,  24.,  35., 'F')</td><td>(12,  25.,  37., 'F')</td><td>(13,  24.,  37., 'F')</td><td>(14,  22.,  34., 'F')</td><td>(15,  26.,  38., 'F')</td><td>(16,  26.,  37., 'F')</td><td>(17,  25.,  38., 'F')</td><td>(18,  26.,  37., 'F')</td><td>(19,  28.,  40., 'F')</td><td>(20,  23.,  35., 'F')</td></tr><tr><td>(1,  30.,  32., 'M')</td><td>(2,  32.,  37., 'M')</td><td>(3,  30.,  36., 'M')</td><td>(4,  33.,  39., 'M')</td><td>(5,  29.,  33., 'M')</td><td>(6,  32.,  38., 'M')</td><td>(7,  33.,  42., 'M')</td><td>(8,  30.,  40., 'M')</td><td>(9,  30.,  37., 'M')</td><td>(10,  32.,  39., 'M')</td><td>(11,  24.,  35., 'F')</td><td>(12,  25.,  37., 'F')</td><td>(13,  24.,  37., 'F')</td><td>(14,  22.,  34., 'F')</td><td>(15,  26.,  38., 'F')</td><td>(16,  26.,  37., 'F')</td><td>(17,  25.,  38., 'F')</td><td>(18,  26.,  37., 'F')</td><td>(19,  28.,  40., 'F')</td><td>(20,  23.,  35., 'F')</td></tr><tr><td>(1,  30.,  32., 'M')</td><td>(2,  32.,  37., 'M')</td><td>(3,  30.,  36., 'M')</td><td>(4,  33.,  39., 'M')</td><td>(5,  29.,  33., 'M')</td><td>(6,  32.,  38., 'M')</td><td>(7,  33.,  42., 'M')</td><td>(8,  30.,  40., 'M')</td><td>(9,  30.,  37., 'M')</td><td>(10,  32.,  39., 'M')</td><td>(11,  24.,  35., 'F')</td><td>(12,  25.,  37., 'F')</td><td>(13,  24.,  37., 'F')</td><td>(14,  22.,  34., 'F')</td><td>(15,  26.,  38., 'F')</td><td>(16,  26.,  37., 'F')</td><td>(17,  25.,  38., 'F')</td><td>(18,  26.,  37., 'F')</td><td>(19,  28.,  40., 'F')</td><td>(20,  23.,  35., 'F')</td></tr><tr><td>(1,  30.,  32., 'M')</td><td>(2,  32.,  37., 'M')</td><td>(3,  30.,  36., 'M')</td><td>(4,  33.,  39., 'M')</td><td>(5,  29.,  33., 'M')</td><td>(6,  32.,  38., 'M')</td><td>(7,  33.,  42., 'M')</td><td>(8,  30.,  40., 'M')</td><td>(9,  30.,  37., 'M')</td><td>(10,  32.,  39., 'M')</td><td>(11,  24.,  35., 'F')</td><td>(12,  25.,  37., 'F')</td><td>(13,  24.,  37., 'F')</td><td>(14,  22.,  34., 'F')</td><td>(15,  26.,  38., 'F')</td><td>(16,  26.,  37., 'F')</td><td>(17,  25.,  38., 'F')</td><td>(18,  26.,  37., 'F')</td><td>(19,  28.,  40., 'F')</td><td>(20,  23.,  35., 'F')</td></tr><tr><td>(1,  30.,  32., 'M')</td><td>(2,  32.,  37., 'M')</td><td>(3,  30.,  36., 'M')</td><td>(4,  33.,  39., 'M')</td><td>(5,  29.,  33., 'M')</td><td>(6,  32.,  38., 'M')</td><td>(7,  33.,  42., 'M')</td><td>(8,  30.,  40., 'M')</td><td>(9,  30.,  37., 'M')</td><td>(10,  32.,  39., 'M')</td><td>(11,  24.,  35., 'F')</td><td>(12,  25.,  37., 'F')</td><td>(13,  24.,  37., 'F')</td><td>(14,  22.,  34., 'F')</td><td>(15,  26.,  38., 'F')</td><td>(16,  26.,  37., 'F')</td><td>(17,  25.,  38., 'F')</td><td>(18,  26.,  37., 'F')</td><td>(19,  28.,  40., 'F')</td><td>(20,  23.,  35., 'F')</td></tr><tr><td>(1,  30.,  32., 'M')</td><td>(2,  32.,  37., 'M')</td><td>(3,  30.,  36., 'M')</td><td>(4,  33.,  39., 'M')</td><td>(5,  29.,  33., 'M')</td><td>(6,  32.,  38., 'M')</td><td>(7,  33.,  42., 'M')</td><td>(8,  30.,  40., 'M')</td><td>(9,  30.,  37., 'M')</td><td>(10,  32.,  39., 'M')</td><td>(11,  24.,  35., 'F')</td><td>(12,  25.,  37., 'F')</td><td>(13,  24.,  37., 'F')</td><td>(14,  22.,  34., 'F')</td><td>(15,  26.,  38., 'F')</td><td>(16,  26.,  37., 'F')</td><td>(17,  25.,  38., 'F')</td><td>(18,  26.,  37., 'F')</td><td>(19,  28.,  40., 'F')</td><td>(20,  23.,  35., 'F')</td></tr><tr><td>(1,  30.,  32., 'M')</td><td>(2,  32.,  37., 'M')</td><td>(3,  30.,  36., 'M')</td><td>(4,  33.,  39., 'M')</td><td>(5,  29.,  33., 'M')</td><td>(6,  32.,  38., 'M')</td><td>(7,  33.,  42., 'M')</td><td>(8,  30.,  40., 'M')</td><td>(9,  30.,  37., 'M')</td><td>(10,  32.,  39., 'M')</td><td>(11,  24.,  35., 'F')</td><td>(12,  25.,  37., 'F')</td><td>(13,  24.,  37., 'F')</td><td>(14,  22.,  34., 'F')</td><td>(15,  26.,  38., 'F')</td><td>(16,  26.,  37., 'F')</td><td>(17,  25.,  38., 'F')</td><td>(18,  26.,  37., 'F')</td><td>(19,  28.,  40., 'F')</td><td>(20,  23.,  35., 'F')</td></tr><tr><td>(1,  30.,  32., 'M')</td><td>(2,  32.,  37., 'M')</td><td>(3,  30.,  36., 'M')</td><td>(4,  33.,  39., 'M')</td><td>(5,  29.,  33., 'M')</td><td>(6,  32.,  38., 'M')</td><td>(7,  33.,  42., 'M')</td><td>(8,  30.,  40., 'M')</td><td>(9,  30.,  37., 'M')</td><td>(10,  32.,  39., 'M')</td><td>(11,  24.,  35., 'F')</td><td>(12,  25.,  37., 'F')</td><td>(13,  24.,  37., 'F')</td><td>(14,  22.,  34., 'F')</td><td>(15,  26.,  38., 'F')</td><td>(16,  26.,  37., 'F')</td><td>(17,  25.,  38., 'F')</td><td>(18,  26.,  37., 'F')</td><td>(19,  28.,  40., 'F')</td><td>(20,  23.,  35., 'F')</td></tr><tr><td>(1,  30.,  32., 'M')</td><td>(2,  32.,  37., 'M')</td><td>(3,  30.,  36., 'M')</td><td>(4,  33.,  39., 'M')</td><td>(5,  29.,  33., 'M')</td><td>(6,  32.,  38., 'M')</td><td>(7,  33.,  42., 'M')</td><td>(8,  30.,  40., 'M')</td><td>(9,  30.,  37., 'M')</td><td>(10,  32.,  39., 'M')</td><td>(11,  24.,  35., 'F')</td><td>(12,  25.,  37., 'F')</td><td>(13,  24.,  37., 'F')</td><td>(14,  22.,  34., 'F')</td><td>(15,  26.,  38., 'F')</td><td>(16,  26.,  37., 'F')</td><td>(17,  25.,  38., 'F')</td><td>(18,  26.,  37., 'F')</td><td>(19,  28.,  40., 'F')</td><td>(20,  23.,  35., 'F')</td></tr></table>"
      ],
      "text/plain": [
       "<IPython.core.display.HTML object>"
      ]
     },
     "metadata": {},
     "output_type": "display_data"
    }
   ],
   "source": [
    "# Goal: pretty print the rows as an HTML table\n",
    "\n",
    "# Note: this works, but we can do this much better with pandas\n",
    "html_table = '<table><tr><th>'\n",
    "html_table += \"</th><th>\".join(results.dtype.names)\n",
    "html_table += '</th></tr>'\n",
    "for row in rows:\n",
    "    html_table += \"<tr><td>\"\n",
    "    html_table += \"</td><td>\".join(str(v) for v in rows)\n",
    "    html_table += \"</td></tr>\"\n",
    "html_table += \"</table>\"\n",
    "\n",
    "from IPython.display import HTML, display\n",
    "display(HTML(html_table))\n",
    "\n",
    "np.savetxt(\"Statsresults.csv\",results,fmt='%s',delimiter=',',header=','.join(results.dtype.names),comments=\" \")"
   ]
  },
  {
   "cell_type": "code",
   "execution_count": null,
   "metadata": {
    "collapsed": true
   },
   "outputs": [],
   "source": []
  },
  {
   "cell_type": "code",
   "execution_count": null,
   "metadata": {
    "collapsed": true
   },
   "outputs": [],
   "source": []
  }
 ],
 "metadata": {
  "kernelspec": {
   "display_name": "Python 3",
   "language": "python",
   "name": "python3"
  },
  "language_info": {
   "codemirror_mode": {
    "name": "ipython",
    "version": 3
   },
   "file_extension": ".py",
   "mimetype": "text/x-python",
   "name": "python",
   "nbconvert_exporter": "python",
   "pygments_lexer": "ipython3",
   "version": "3.6.1"
  }
 },
 "nbformat": 4,
 "nbformat_minor": 2
}
